{
 "cells": [
  {
   "cell_type": "code",
   "execution_count": 3,
   "id": "0bb752f2",
   "metadata": {},
   "outputs": [],
   "source": [
    "import random"
   ]
  },
  {
   "cell_type": "code",
   "execution_count": 7,
   "id": "dd5f9b7b",
   "metadata": {},
   "outputs": [
    {
     "data": {
      "text/plain": [
       "0.471330839742235"
      ]
     },
     "execution_count": 7,
     "metadata": {},
     "output_type": "execute_result"
    }
   ],
   "source": [
    "random.random()"
   ]
  },
  {
   "cell_type": "code",
   "execution_count": 9,
   "id": "9e9c353c",
   "metadata": {},
   "outputs": [
    {
     "data": {
      "text/plain": [
       "-45.059926245960085"
      ]
     },
     "execution_count": 9,
     "metadata": {},
     "output_type": "execute_result"
    }
   ],
   "source": [
    "random_number = random.randint(-90,90) + random.random()\n",
    "random_number"
   ]
  },
  {
   "cell_type": "code",
   "execution_count": 13,
   "id": "8a1b5064",
   "metadata": {},
   "outputs": [
    {
     "data": {
      "text/plain": [
       "[-17.04301804767692,\n",
       " 81.43889068768313,\n",
       " -4.335382280519209,\n",
       " 47.41270530040504,\n",
       " 22.73595121196412,\n",
       " 7.433073993584884,\n",
       " -27.548518659741166,\n",
       " 80.64680608324741,\n",
       " 44.39636776071268,\n",
       " -48.376694712194315]"
      ]
     },
     "execution_count": 13,
     "metadata": {},
     "output_type": "execute_result"
    }
   ],
   "source": [
    "x = 1\n",
    "latitudes = []\n",
    "while x <11:\n",
    "    random_lat = random.randint(-90,90) + random.random()\n",
    "    latitudes.append(random_lat)\n",
    "    x +=1\n",
    "latitudes"
   ]
  },
  {
   "cell_type": "code",
   "execution_count": 14,
   "id": "ada0c338",
   "metadata": {},
   "outputs": [
    {
     "data": {
      "text/plain": [
       "11"
      ]
     },
     "execution_count": 14,
     "metadata": {},
     "output_type": "execute_result"
    }
   ],
   "source": [
    "random.randrange(-90,90,step=1)"
   ]
  },
  {
   "cell_type": "code",
   "execution_count": 15,
   "id": "6e163393",
   "metadata": {},
   "outputs": [],
   "source": [
    "import numpy as np"
   ]
  },
  {
   "cell_type": "code",
   "execution_count": 17,
   "id": "98b326f6",
   "metadata": {},
   "outputs": [
    {
     "data": {
      "text/plain": [
       "array([-33.12969971, -56.80695835, -84.39733746, ..., -81.48712043,\n",
       "       -42.18995232, -54.92131981])"
      ]
     },
     "execution_count": 17,
     "metadata": {},
     "output_type": "execute_result"
    }
   ],
   "source": [
    "np.random.uniform(-90.000,90.000,size = 1500)"
   ]
  },
  {
   "cell_type": "code",
   "execution_count": 18,
   "id": "5f3d6aca",
   "metadata": {},
   "outputs": [],
   "source": [
    "import timeit"
   ]
  },
  {
   "cell_type": "code",
   "execution_count": 21,
   "id": "d34e702e",
   "metadata": {},
   "outputs": [
    {
     "name": "stdout",
     "output_type": "stream",
     "text": [
      "22.5 µs ± 200 ns per loop (mean ± std. dev. of 7 runs, 10000 loops each)\n"
     ]
    }
   ],
   "source": [
    "%timeit np.random.uniform(-90.000,90.000, size = 1500)"
   ]
  },
  {
   "cell_type": "code",
   "execution_count": 32,
   "id": "4e0aec70",
   "metadata": {},
   "outputs": [
    {
     "name": "stdout",
     "output_type": "stream",
     "text": [
      "2.78 ms ± 9.27 µs per loop (mean ± std. dev. of 7 runs, 100 loops each)\n"
     ]
    }
   ],
   "source": [
    "def latitudes(size):\n",
    "    latitudes = []\n",
    "    x = 0\n",
    "    while x < (size):\n",
    "        random_lat = random.randint(-90,90) + random.random()\n",
    "        latitudes.append(random_lat)\n",
    "        x +=1\n",
    "    return latitudes\n",
    "\n",
    "%timeit latitudes(1500)\n",
    "    "
   ]
  },
  {
   "cell_type": "code",
   "execution_count": 33,
   "id": "dcfff120",
   "metadata": {},
   "outputs": [
    {
     "name": "stdout",
     "output_type": "stream",
     "text": [
      "22.6 µs ± 202 ns per loop (mean ± std. dev. of 7 runs, 10000 loops each)\n"
     ]
    }
   ],
   "source": [
    "%timeit np.random.uniform(-90.000,90.000,size = 1500)"
   ]
  },
  {
   "cell_type": "code",
   "execution_count": null,
   "id": "ddbaaff3",
   "metadata": {},
   "outputs": [],
   "source": [
    "import pandas as pd\n",
    "import matplotlib.pyplot as plt\n",
    "import numpy as np"
   ]
  }
 ],
 "metadata": {
  "kernelspec": {
   "display_name": "Python 3 (ipykernel)",
   "language": "python",
   "name": "python3"
  },
  "language_info": {
   "codemirror_mode": {
    "name": "ipython",
    "version": 3
   },
   "file_extension": ".py",
   "mimetype": "text/x-python",
   "name": "python",
   "nbconvert_exporter": "python",
   "pygments_lexer": "ipython3",
   "version": "3.7.11"
  }
 },
 "nbformat": 4,
 "nbformat_minor": 5
}
